{
 "cells": [
  {
   "cell_type": "code",
   "execution_count": 28,
   "id": "8e5c6103",
   "metadata": {},
   "outputs": [],
   "source": [
    "import pandas as pd"
   ]
  },
  {
   "cell_type": "code",
   "execution_count": 29,
   "id": "18830fff",
   "metadata": {},
   "outputs": [
    {
     "name": "stdout",
     "output_type": "stream",
     "text": [
      "<class 'pandas.core.frame.DataFrame'>\n",
      "RangeIndex: 1508706 entries, 0 to 1508705\n",
      "Data columns (total 15 columns):\n",
      " #   Column               Non-Null Count    Dtype  \n",
      "---  ------               --------------    -----  \n",
      " 0   sender_id            1508706 non-null  int64  \n",
      " 1   recipient_id         1508706 non-null  int64  \n",
      " 2   amount               1508706 non-null  float64\n",
      " 3   time_of_day          1508706 non-null  float64\n",
      " 4   day_of_week          1508706 non-null  int64  \n",
      " 5   transaction_type     1508706 non-null  object \n",
      " 6   avg_amount_last_10   1508706 non-null  float64\n",
      " 7   txn_count_last_24h   1508706 non-null  float64\n",
      " 8   recipient_diversity  1508706 non-null  int64  \n",
      " 9   is_known_recipient   1508706 non-null  int64  \n",
      " 10  device_id            1508706 non-null  object \n",
      " 11  geo_distance_km      1508706 non-null  float64\n",
      " 12  ip_change_flag       1508706 non-null  int64  \n",
      " 13  is_fraud             1508706 non-null  int64  \n",
      " 14  timestamp            1508706 non-null  object \n",
      "dtypes: float64(5), int64(7), object(3)\n",
      "memory usage: 172.7+ MB\n",
      "None\n",
      "is_fraud\n",
      "0    0.901485\n",
      "1    0.098515\n",
      "Name: proportion, dtype: float64\n"
     ]
    }
   ],
   "source": [
    "import pandas as pd\n",
    "\n",
    "df = pd.read_csv(\"./realistic_fraud_dataset.csv\")\n",
    "print(df.info())\n",
    "print(df[\"is_fraud\"].value_counts(normalize=True))\n"
   ]
  },
  {
   "cell_type": "code",
   "execution_count": 30,
   "id": "51d55f0e",
   "metadata": {},
   "outputs": [
    {
     "name": "stdout",
     "output_type": "stream",
     "text": [
      "   sender_id  recipient_id  amount  time_of_day  day_of_week transaction_type  \\\n",
      "0          1          4658   44.63     1.233333            3         transfer   \n",
      "1          1          1434   32.13     5.633333            5         purchase   \n",
      "2          1          1434   18.57    14.916667            5         purchase   \n",
      "3          1          1434   48.65    22.183333            5           refund   \n",
      "4          1          3293   34.33     8.316667            6           refund   \n",
      "\n",
      "   avg_amount_last_10  txn_count_last_24h  recipient_diversity  \\\n",
      "0           44.630000                 1.0                    1   \n",
      "1           38.380000                 1.0                    2   \n",
      "2           31.776667                 2.0                    2   \n",
      "3           35.995000                 3.0                    2   \n",
      "4           35.662000                 3.0                    3   \n",
      "\n",
      "   is_known_recipient                             device_id  geo_distance_km  \\\n",
      "0                   0  c5114889-9184-473f-a82d-f060cd4971aa            13.20   \n",
      "1                   0  39b0f8dd-a259-4ef6-b89e-5a5273582f42             2.95   \n",
      "2                   1  39b0f8dd-a259-4ef6-b89e-5a5273582f42            10.29   \n",
      "3                   1  39b0f8dd-a259-4ef6-b89e-5a5273582f42             6.17   \n",
      "4                   0  c5114889-9184-473f-a82d-f060cd4971aa            17.78   \n",
      "\n",
      "   ip_change_flag  is_fraud            timestamp  \n",
      "0               0         0  2025-01-02 01:14:00  \n",
      "1               1         0  2025-01-04 05:38:00  \n",
      "2               0         0  2025-01-04 14:55:00  \n",
      "3               0         0  2025-01-04 22:11:00  \n",
      "4               1         0  2025-01-05 08:19:00  \n"
     ]
    }
   ],
   "source": [
    "\n",
    "# Sample rows\n",
    "print(df.head())\n",
    "\n"
   ]
  },
  {
   "cell_type": "code",
   "execution_count": 32,
   "id": "aaca42c1",
   "metadata": {},
   "outputs": [
    {
     "name": "stdout",
     "output_type": "stream",
     "text": [
      "           sender_id  recipient_id        amount   time_of_day   day_of_week  \\\n",
      "count   1.508706e+06  1.508706e+06  1.508706e+06  1.508706e+06  1.508706e+06   \n",
      "unique           NaN           NaN           NaN           NaN           NaN   \n",
      "top              NaN           NaN           NaN           NaN           NaN   \n",
      "freq             NaN           NaN           NaN           NaN           NaN   \n",
      "mean    2.483942e+03  2.497221e+03  1.196031e+02  1.200069e+01  2.999914e+00   \n",
      "std     1.442511e+03  1.434675e+03  9.442770e+01  6.927429e+00  1.997293e+00   \n",
      "min     1.000000e+00  1.000000e+00  1.000000e+00  0.000000e+00  0.000000e+00   \n",
      "25%     1.233000e+03  1.271000e+03  5.501000e+01  6.000000e+00  1.000000e+00   \n",
      "50%     2.477000e+03  2.479000e+03  1.006300e+02  1.200000e+01  3.000000e+00   \n",
      "75%     3.729000e+03  3.731000e+03  1.601100e+02  1.801667e+01  5.000000e+00   \n",
      "max     5.000000e+03  5.000000e+03  1.190580e+03  2.398333e+01  6.000000e+00   \n",
      "\n",
      "       transaction_type  avg_amount_last_10  txn_count_last_24h  \\\n",
      "count           1508706        1.508706e+06        1.508706e+06   \n",
      "unique                5                 NaN                 NaN   \n",
      "top             payment                 NaN                 NaN   \n",
      "freq             302394                 NaN                 NaN   \n",
      "mean                NaN        1.195994e+02        2.208516e+00   \n",
      "std                 NaN        6.469358e+01        2.835376e+00   \n",
      "min                 NaN        1.560000e+00        1.000000e+00   \n",
      "25%                 NaN        6.715900e+01        1.000000e+00   \n",
      "50%                 NaN        1.148910e+02        2.000000e+00   \n",
      "75%                 NaN        1.646780e+02        3.000000e+00   \n",
      "max                 NaN        1.050440e+03        5.300000e+01   \n",
      "\n",
      "        recipient_diversity  is_known_recipient  \\\n",
      "count          1.508706e+06        1.508706e+06   \n",
      "unique                  NaN                 NaN   \n",
      "top                     NaN                 NaN   \n",
      "freq                    NaN                 NaN   \n",
      "mean           1.026390e+01        9.515141e-01   \n",
      "std            7.840287e+00        2.147908e-01   \n",
      "min            1.000000e+00        0.000000e+00   \n",
      "25%            6.000000e+00        1.000000e+00   \n",
      "50%            8.000000e+00        1.000000e+00   \n",
      "75%            1.200000e+01        1.000000e+00   \n",
      "max            5.500000e+01        1.000000e+00   \n",
      "\n",
      "                                   device_id  geo_distance_km  ip_change_flag  \\\n",
      "count                                1508706     1.508706e+06    1.508706e+06   \n",
      "unique                                 80728              NaN             NaN   \n",
      "top     a0dad210-0927-43f6-a794-dece50213195              NaN             NaN   \n",
      "freq                                     476              NaN             NaN   \n",
      "mean                                     NaN     1.466259e+01    3.351104e-01   \n",
      "std                                      NaN     3.879735e+01    4.720292e-01   \n",
      "min                                      NaN     0.000000e+00    0.000000e+00   \n",
      "25%                                      NaN     6.700000e+00    0.000000e+00   \n",
      "50%                                      NaN     1.012000e+01    0.000000e+00   \n",
      "75%                                      NaN     1.358000e+01    1.000000e+00   \n",
      "max                                      NaN     4.999700e+02    1.000000e+00   \n",
      "\n",
      "            is_fraud            timestamp  \n",
      "count   1.508706e+06              1508706  \n",
      "unique           NaN               495920  \n",
      "top              NaN  2025-07-11 09:02:00  \n",
      "freq             NaN                   14  \n",
      "mean    9.851489e-02                  NaN  \n",
      "std     2.980097e-01                  NaN  \n",
      "min     0.000000e+00                  NaN  \n",
      "25%     0.000000e+00                  NaN  \n",
      "50%     0.000000e+00                  NaN  \n",
      "75%     0.000000e+00                  NaN  \n",
      "max     1.000000e+00                  NaN  \n"
     ]
    }
   ],
   "source": [
    "# Descriptive stats\n",
    "print(df.describe(include='all'))\n",
    "\n"
   ]
  },
  {
   "cell_type": "code",
   "execution_count": 33,
   "id": "730817e2",
   "metadata": {},
   "outputs": [
    {
     "name": "stdout",
     "output_type": "stream",
     "text": [
      "Fraud distribution:\n",
      " is_fraud\n",
      "0    0.901485\n",
      "1    0.098515\n",
      "Name: proportion, dtype: float64\n"
     ]
    }
   ],
   "source": [
    "# Class distribution\n",
    "print(\"Fraud distribution:\\n\", df['is_fraud'].value_counts(normalize=True))\n",
    "\n"
   ]
  },
  {
   "cell_type": "code",
   "execution_count": 34,
   "id": "41bf2703",
   "metadata": {},
   "outputs": [
    {
     "name": "stdout",
     "output_type": "stream",
     "text": [
      "Missing values:\n",
      " sender_id              0\n",
      "recipient_id           0\n",
      "amount                 0\n",
      "time_of_day            0\n",
      "day_of_week            0\n",
      "transaction_type       0\n",
      "avg_amount_last_10     0\n",
      "txn_count_last_24h     0\n",
      "recipient_diversity    0\n",
      "is_known_recipient     0\n",
      "device_id              0\n",
      "geo_distance_km        0\n",
      "ip_change_flag         0\n",
      "is_fraud               0\n",
      "timestamp              0\n",
      "dtype: int64\n"
     ]
    }
   ],
   "source": [
    "# Check for missing values\n",
    "print(\"Missing values:\\n\", df.isnull().sum())"
   ]
  },
  {
   "cell_type": "code",
   "execution_count": 31,
   "id": "60ccee05",
   "metadata": {},
   "outputs": [],
   "source": [
    "\n",
    "from sklearn.model_selection import train_test_split\n",
    "from sklearn.preprocessing import OneHotEncoder, StandardScaler\n",
    "from sklearn.compose import ColumnTransformer\n",
    "from sklearn.pipeline import Pipeline\n",
    "from sklearn.ensemble import RandomForestClassifier\n",
    "from sklearn.metrics import classification_report, confusion_matrix\n",
    "import joblib"
   ]
  },
  {
   "cell_type": "code",
   "execution_count": 35,
   "id": "8d07a048",
   "metadata": {},
   "outputs": [],
   "source": [
    "# Drop IDs and timestamp\n",
    "df = df.drop(columns=[\"sender_id\", \"recipient_id\", \"device_id\", \"timestamp\"])"
   ]
  },
  {
   "cell_type": "code",
   "execution_count": 36,
   "id": "1bf780a5",
   "metadata": {},
   "outputs": [],
   "source": [
    "# Split features and labels\n",
    "X = df.drop(\"is_fraud\", axis=1)\n",
    "y = df[\"is_fraud\"]\n"
   ]
  },
  {
   "cell_type": "code",
   "execution_count": 37,
   "id": "e704dbdd",
   "metadata": {},
   "outputs": [],
   "source": [
    "# Define categorical and numerical columns\n",
    "categorical = [\"time_of_day\", \"transaction_type\"]\n",
    "numerical = [col for col in X.columns if col not in categorical]\n"
   ]
  },
  {
   "cell_type": "code",
   "execution_count": 38,
   "id": "97ee925f",
   "metadata": {},
   "outputs": [],
   "source": [
    "# Preprocessing pipeline\n",
    "preprocessor = ColumnTransformer([\n",
    "    (\"num\", StandardScaler(), numerical),\n",
    "    (\"cat\", OneHotEncoder(drop=\"first\"), categorical)\n",
    "])"
   ]
  },
  {
   "cell_type": "code",
   "execution_count": 39,
   "id": "1fa29b2e",
   "metadata": {},
   "outputs": [],
   "source": [
    "# Build model pipeline\n",
    "pipeline = Pipeline([\n",
    "    (\"preprocessor\", preprocessor),\n",
    "    (\"classifier\", RandomForestClassifier(n_estimators=100, random_state=42))\n",
    "])"
   ]
  },
  {
   "cell_type": "code",
   "execution_count": 40,
   "id": "275b70ea",
   "metadata": {},
   "outputs": [],
   "source": [
    "# Split data\n",
    "X_train, X_test, y_train, y_test = train_test_split(X, y, stratify=y, test_size=0.2, random_state=42)\n"
   ]
  },
  {
   "cell_type": "code",
   "execution_count": null,
   "id": "47298682",
   "metadata": {},
   "outputs": [],
   "source": [
    "pipeline.fit(X_train, y_train)\n"
   ]
  },
  {
   "cell_type": "code",
   "execution_count": null,
   "id": "1076248d",
   "metadata": {},
   "outputs": [],
   "source": []
  },
  {
   "cell_type": "code",
   "execution_count": 24,
   "id": "f2533a1c",
   "metadata": {},
   "outputs": [
    {
     "name": "stdout",
     "output_type": "stream",
     "text": [
      "Classification Report:\n",
      "               precision    recall  f1-score   support\n",
      "\n",
      "           0       1.00      1.00      1.00     62306\n",
      "           1       1.00      1.00      1.00      6826\n",
      "\n",
      "    accuracy                           1.00     69132\n",
      "   macro avg       1.00      1.00      1.00     69132\n",
      "weighted avg       1.00      1.00      1.00     69132\n",
      "\n",
      "Confusion Matrix:\n",
      " [[62306     0]\n",
      " [    0  6826]]\n"
     ]
    }
   ],
   "source": [
    "# Evaluate\n",
    "y_pred = pipeline.predict(X_test)\n",
    "print(\"Classification Report:\\n\", classification_report(y_test, y_pred))\n",
    "print(\"Confusion Matrix:\\n\", confusion_matrix(y_test, y_pred))"
   ]
  },
  {
   "cell_type": "code",
   "execution_count": 25,
   "id": "3d7ca6b2",
   "metadata": {},
   "outputs": [
    {
     "name": "stdout",
     "output_type": "stream",
     "text": [
      "✅ Model saved as fraud_model.pkl\n"
     ]
    }
   ],
   "source": [
    "# Save model\n",
    "joblib.dump(pipeline, \"fraud_model.pkl\")\n",
    "print(\"✅ Model saved as fraud_model.pkl\")"
   ]
  },
  {
   "cell_type": "code",
   "execution_count": null,
   "id": "2202f5c5",
   "metadata": {},
   "outputs": [],
   "source": []
  }
 ],
 "metadata": {
  "kernelspec": {
   "display_name": ".venv",
   "language": "python",
   "name": "python3"
  },
  "language_info": {
   "codemirror_mode": {
    "name": "ipython",
    "version": 3
   },
   "file_extension": ".py",
   "mimetype": "text/x-python",
   "name": "python",
   "nbconvert_exporter": "python",
   "pygments_lexer": "ipython3",
   "version": "3.12.3"
  }
 },
 "nbformat": 4,
 "nbformat_minor": 5
}
